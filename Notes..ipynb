{
 "cells": [
  {
   "cell_type": "markdown",
   "metadata": {},
   "source": [
    "Write a program that:\n",
    "3.1 Outputs a summary of each variable to a single text file\n",
    "\n",
    "Import the iris.csv file to Jupyter Variables:"
   ]
  },
  {
   "cell_type": "code",
   "execution_count": 121,
   "metadata": {},
   "outputs": [],
   "source": [
    "import pandas as pd\n",
    "\n",
    "data = pd.read_csv ('iris.csv')\n"
   ]
  },
  {
   "cell_type": "markdown",
   "metadata": {},
   "source": [
    "To understand the data and how it appears, we can print out the first two rows of the data using pandas head function:"
   ]
  },
  {
   "cell_type": "code",
   "execution_count": 122,
   "metadata": {},
   "outputs": [
    {
     "data": {
      "text/html": [
       "<div>\n",
       "<style scoped>\n",
       "    .dataframe tbody tr th:only-of-type {\n",
       "        vertical-align: middle;\n",
       "    }\n",
       "\n",
       "    .dataframe tbody tr th {\n",
       "        vertical-align: top;\n",
       "    }\n",
       "\n",
       "    .dataframe thead th {\n",
       "        text-align: right;\n",
       "    }\n",
       "</style>\n",
       "<table border=\"1\" class=\"dataframe\">\n",
       "  <thead>\n",
       "    <tr style=\"text-align: right;\">\n",
       "      <th></th>\n",
       "      <th>sepal_length</th>\n",
       "      <th>sepal_width</th>\n",
       "      <th>petal_length</th>\n",
       "      <th>petal_width</th>\n",
       "      <th>class</th>\n",
       "    </tr>\n",
       "  </thead>\n",
       "  <tbody>\n",
       "    <tr>\n",
       "      <th>0</th>\n",
       "      <td>5.1</td>\n",
       "      <td>3.5</td>\n",
       "      <td>1.4</td>\n",
       "      <td>0.2</td>\n",
       "      <td>Iris-setosa</td>\n",
       "    </tr>\n",
       "    <tr>\n",
       "      <th>1</th>\n",
       "      <td>4.9</td>\n",
       "      <td>3.0</td>\n",
       "      <td>1.4</td>\n",
       "      <td>0.2</td>\n",
       "      <td>Iris-setosa</td>\n",
       "    </tr>\n",
       "  </tbody>\n",
       "</table>\n",
       "</div>"
      ],
      "text/plain": [
       "   sepal_length  sepal_width  petal_length  petal_width        class\n",
       "0           5.1          3.5           1.4          0.2  Iris-setosa\n",
       "1           4.9          3.0           1.4          0.2  Iris-setosa"
      ]
     },
     "execution_count": 122,
     "metadata": {},
     "output_type": "execute_result"
    }
   ],
   "source": [
    "data.head(2)"
   ]
  },
  {
   "cell_type": "markdown",
   "metadata": {},
   "source": [
    "To summarise the count, mean standard deviation, minimum, maximum, 25 percentile, 50 percentile, 75 percentile for a specific variable (column) use the describe function:"
   ]
  },
  {
   "cell_type": "code",
   "execution_count": 123,
   "metadata": {},
   "outputs": [
    {
     "name": "stdout",
     "output_type": "stream",
     "text": [
      "count    150.000000\n",
      "mean       5.843333\n",
      "std        0.828066\n",
      "min        4.300000\n",
      "25%        5.100000\n",
      "50%        5.800000\n",
      "75%        6.400000\n",
      "max        7.900000\n",
      "Name: sepal_length, dtype: float64\n"
     ]
    }
   ],
   "source": [
    "x = data['sepal_length'].describe()\n",
    "print (x)"
   ]
  },
  {
   "cell_type": "markdown",
   "metadata": {},
   "source": [
    "Define each of the variables with the describe function to summarize:"
   ]
  },
  {
   "cell_type": "code",
   "execution_count": 124,
   "metadata": {},
   "outputs": [],
   "source": [
    "y = data['sepal_width'].describe()\n",
    "z = data['petal_length'].describe()\n",
    "b = data['petal_width'].describe()\n",
    "c = data['class'].describe()"
   ]
  },
  {
   "cell_type": "markdown",
   "metadata": {},
   "source": [
    "To write the output of the summary of each variable to a text file (summaryfile.txt):"
   ]
  },
  {
   "cell_type": "code",
   "execution_count": 125,
   "metadata": {},
   "outputs": [],
   "source": [
    "filelocation = \"C:/Users/paulb/Desktop/Programming and Scripting/Project/pands-project/summaryfile.txt\" \n",
    "print (\"SUMMARY OF EACH VARIABLE IN THE IRIS DATASET: \", file = open (filelocation, \"a\")) \n",
    "print ('\\r\\n', file = open (filelocation, \"a\"))\n",
    "print ('SEPAL LENGTH: ', file = open (filelocation, \"a\"))\n",
    "print(x, file = open (filelocation, \"a\"))\n",
    "print ('\\r\\n', file = open (filelocation, \"a\"))\n",
    "print ('SEPAL WIDTH: ', file = open (filelocation, \"a\"))\n",
    "print(y, file = open (filelocation, \"a\"))\n",
    "print ('\\r\\n', file = open (filelocation, \"a\"))\n",
    "print ('PETAL LENGTH: ', file = open (filelocation, \"a\"))\n",
    "print(z, file = open (filelocation, \"a\"))\n",
    "print ('\\r\\n', file = open (filelocation, \"a\"))\n",
    "print ('PETAL WIDTH: ', file = open (filelocation, \"a\"))\n",
    "print(b, file = open (filelocation, \"a\"))\n",
    "print ('\\r\\n', file = open (filelocation, \"a\"))\n",
    "print ('CLASS: ', file = open (filelocation, \"a\"))\n",
    "print(c, file = open (filelocation, \"a\"))\n",
    "print ('\\r\\n', file = open (filelocation, \"a\"))\n"
   ]
  },
  {
   "cell_type": "markdown",
   "metadata": {},
   "source": [
    "3.2 Saves a histogram of each variable to png files: \n",
    "\n",
    "https://www.w3schools.com/python/matplotlib_histograms.asp#:~:text=In%20Matplotlib%2C%20we%20use%20the,the%20function%20as%20an%20argument. \n",
    "\n",
    "https://matplotlib.org/3.5.0/gallery/statistics/hist.html "
   ]
  },
  {
   "cell_type": "code",
   "execution_count": 126,
   "metadata": {},
   "outputs": [
    {
     "data": {
      "image/png": "[encoded data removed]",
      "text/plain": [
       "<Figure size 720x720 with 1 Axes>"
      ]
     },
     "metadata": {
      "needs_background": "light"
     },
     "output_type": "display_data"
    }
   ],
   "source": [
    "import matplotlib.pyplot as plt\n",
    "from matplotlib import colors \n",
    "\n",
    "#Set the figure size\n",
    "plt.rcParams[\"figure.figsize\"] = [10.00, 10.00]\n",
    "plt.rcParams[\"figure.autolayout\"] = True\n",
    "\n",
    "# Plot the histogram\n",
    "plt.hist(data['sepal_length'])\n",
    "\n",
    "\n",
    "#Save the histogram\n",
    "plt.savefig('sepal_length.png')\n",
    "\n",
    "plt.show()"
   ]
  },
  {
   "cell_type": "markdown",
   "metadata": {},
   "source": [
    "3.3 Outputs a scatter plot of each pair of variables:\n",
    "\n",
    "a) sepal length and sepal width\n",
    "b) petal length and petal width\n",
    "c) sepal length and petal length\n",
    "d) sepal width and petal width\n",
    "\n",
    "There are 150 plotted points for each pair of variables "
   ]
  },
  {
   "cell_type": "code",
   "execution_count": 132,
   "metadata": {},
   "outputs": [
    {
     "data": {
      "image/png": "[encoded data removed]",
      "text/plain": [
       "<Figure size 720x720 with 1 Axes>"
      ]
     },
     "metadata": {
      "needs_background": "light"
     },
     "output_type": "display_data"
    }
   ],
   "source": [
    "\n",
    "import matplotlib.pyplot as plt\n",
    "\n",
    "x = data['sepal_length']\n",
    "y = data['sepal_width']\n",
    "\n",
    "\n",
    "plt.scatter(x, y, c= 'purple')\n",
    "\n",
    "plt.title ('Scatter plot of each pair of Variables in iris dataset')\n",
    "plt.xlabel ('Sepal length')\n",
    "plt.ylabel ('Sepal_Width')\n",
    "plt.show()"
   ]
  }
 ],
 "metadata": {
  "interpreter": {
   "hash": "a0fcdb2bf1cf2b33b9e7ceac3bb4a64c0b0c51c80ff55c1f9dd9228bc0243d3f"
  },
  "kernelspec": {
   "display_name": "Python 3.9.7 ('base')",
   "language": "python",
   "name": "python3"
  },
  "language_info": {
   "codemirror_mode": {
    "name": "ipython",
    "version": 3
   },
   "file_extension": ".py",
   "mimetype": "text/x-python",
   "name": "python",
   "nbconvert_exporter": "python",
   "pygments_lexer": "ipython3",
   "version": "3.9.7"
  },
  "orig_nbformat": 4
 },
 "nbformat": 4,
 "nbformat_minor": 2
}
